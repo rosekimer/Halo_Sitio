{
  "cells": [
    {
      "cell_type": "markdown",
      "metadata": {
        "id": "view-in-github",
        "colab_type": "text"
      },
      "source": [
        "<a href=\"https://colab.research.google.com/github/rosekimer/Halo_Sitio/blob/main/cargade_excel.ipynb\" target=\"_parent\"><img src=\"https://colab.research.google.com/assets/colab-badge.svg\" alt=\"Open In Colab\"/></a>"
      ]
    },
    {
      "cell_type": "code",
      "execution_count": 14,
      "id": "f76e6bf8",
      "metadata": {
        "id": "f76e6bf8"
      },
      "outputs": [],
      "source": [
        "import pandas as pd\n",
        "import gspread\n",
        "import numpy as np"
      ]
    },
    {
      "cell_type": "code",
      "execution_count": 15,
      "id": "3da88d9b",
      "metadata": {
        "id": "3da88d9b"
      },
      "outputs": [],
      "source": [
        "#@title Texto de título predeterminado\n",
        "df = pd.read_excel(\"/content/sample_data/nuevoEsquema.xls\")\n"
      ]
    },
    {
      "cell_type": "code",
      "source": [
        "df\n"
      ],
      "metadata": {
        "id": "z93PoDHIECxZ"
      },
      "id": "z93PoDHIECxZ",
      "execution_count": null,
      "outputs": []
    },
    {
      "cell_type": "code",
      "execution_count": null,
      "id": "9105d7dd",
      "metadata": {
        "id": "9105d7dd"
      },
      "outputs": [],
      "source": [
        "#df = pd.read_excel(\"nuevoEsquema.xls\", \"Hoja2\", index_col=0)"
      ]
    },
    {
      "cell_type": "code",
      "execution_count": null,
      "id": "6965405f",
      "metadata": {
        "id": "6965405f"
      },
      "outputs": [],
      "source": [
        "#df = pd.read_csv('esquema.csv', index_col=0, encoding='latin-1')"
      ]
    },
    {
      "cell_type": "code",
      "execution_count": null,
      "id": "bd89a387",
      "metadata": {
        "id": "bd89a387"
      },
      "outputs": [],
      "source": [
        "#df = pd.read_csv('esquema.csv', encoding='latin-1')"
      ]
    },
    {
      "cell_type": "code",
      "execution_count": 17,
      "id": "48c49c24",
      "metadata": {
        "id": "48c49c24"
      },
      "outputs": [],
      "source": [
        "df['indice']=df.index"
      ]
    },
    {
      "cell_type": "code",
      "source": [
        "df"
      ],
      "metadata": {
        "id": "f6tIQ8QzEMS-"
      },
      "id": "f6tIQ8QzEMS-",
      "execution_count": null,
      "outputs": []
    },
    {
      "cell_type": "code",
      "execution_count": 19,
      "id": "ec2b2096",
      "metadata": {
        "scrolled": true,
        "id": "ec2b2096"
      },
      "outputs": [],
      "source": [
        "df['new_tipo'] = [ '1'  if s == 'SRD-20' else '2' if s == 'SRD-21' else '3' if s == 'SRD-22' else '4' if s == 'SRD-23' else '5' for s in df['tipo']]\n"
      ]
    },
    {
      "cell_type": "code",
      "source": [
        "df"
      ],
      "metadata": {
        "id": "LTl_qiIZER6C"
      },
      "id": "LTl_qiIZER6C",
      "execution_count": null,
      "outputs": []
    },
    {
      "cell_type": "code",
      "execution_count": 20,
      "id": "4462b905",
      "metadata": {
        "id": "4462b905"
      },
      "outputs": [],
      "source": [
        "df['new_seg'] = [ '1'  if s == 'Ágil' else '2' if s == 'Tradicional' else '3' for s in df['segmento']]\n"
      ]
    },
    {
      "cell_type": "code",
      "source": [
        "df"
      ],
      "metadata": {
        "id": "0EcDa1g8E9dM"
      },
      "id": "0EcDa1g8E9dM",
      "execution_count": null,
      "outputs": []
    },
    {
      "cell_type": "code",
      "execution_count": 23,
      "id": "a6b63d5c",
      "metadata": {
        "colab": {
          "base_uri": "https://localhost:8080/",
          "height": 168
        },
        "id": "a6b63d5c",
        "outputId": "1868c63b-713b-4fc9-9360-76432cf3f515"
      },
      "outputs": [
        {
          "output_type": "error",
          "ename": "AttributeError",
          "evalue": "ignored",
          "traceback": [
            "\u001b[0;31m---------------------------------------------------------------------------\u001b[0m",
            "\u001b[0;31mAttributeError\u001b[0m                            Traceback (most recent call last)",
            "\u001b[0;32m<ipython-input-23-d9f50fc7a9b9>\u001b[0m in \u001b[0;36m<cell line: 1>\u001b[0;34m()\u001b[0m\n\u001b[0;32m----> 1\u001b[0;31m \u001b[0mgc\u001b[0m \u001b[0;34m=\u001b[0m \u001b[0mgspread\u001b[0m\u001b[0;34m.\u001b[0m\u001b[0mservice_account\u001b[0m\u001b[0;34m(\u001b[0m\u001b[0mfilename\u001b[0m\u001b[0;34m=\u001b[0m\u001b[0;34m'/content/sample_data/claveproyectoesquema.json'\u001b[0m\u001b[0;34m)\u001b[0m\u001b[0;34m\u001b[0m\u001b[0;34m\u001b[0m\u001b[0m\n\u001b[0m",
            "\u001b[0;31mAttributeError\u001b[0m: module 'gspread' has no attribute 'service_account'"
          ]
        }
      ],
      "source": [
        "gc = gspread.service_account(filename='/content/sample_data/claveproyectoesquema.json')"
      ]
    },
    {
      "cell_type": "code",
      "execution_count": null,
      "id": "3e5b2846",
      "metadata": {
        "id": "3e5b2846"
      },
      "outputs": [],
      "source": [
        "sh = gc.open_by_key('15pR2cSiDTid393L3aYCn25c7Jroqw5wedkOqvRVPIdM')"
      ]
    },
    {
      "cell_type": "code",
      "execution_count": null,
      "id": "f2af9579",
      "metadata": {
        "id": "f2af9579"
      },
      "outputs": [],
      "source": [
        "worksheet = sh.get_worksheet(0)"
      ]
    },
    {
      "cell_type": "code",
      "execution_count": null,
      "id": "56b5383e",
      "metadata": {
        "id": "56b5383e",
        "outputId": "b317780d-c48b-4db9-e5d0-dc10c0ce999f"
      },
      "outputs": [
        {
          "data": {
            "text/plain": [
              "{'spreadsheetId': '15pR2cSiDTid393L3aYCn25c7Jroqw5wedkOqvRVPIdM',\n",
              " 'clearedRange': \"'Hoja 1'!A1:Z1000\"}"
            ]
          },
          "execution_count": 59,
          "metadata": {},
          "output_type": "execute_result"
        }
      ],
      "source": [
        "worksheet.clear()"
      ]
    },
    {
      "cell_type": "code",
      "execution_count": null,
      "id": "d0f3b781",
      "metadata": {
        "id": "d0f3b781",
        "outputId": "9ededee6-bc98-4c43-fcc2-22ad17e33aa3"
      },
      "outputs": [
        {
          "data": {
            "text/plain": [
              "{'spreadsheetId': '15pR2cSiDTid393L3aYCn25c7Jroqw5wedkOqvRVPIdM',\n",
              " 'updatedRange': \"'Hoja 1'!A1:K366\",\n",
              " 'updatedRows': 366,\n",
              " 'updatedColumns': 11,\n",
              " 'updatedCells': 4026}"
            ]
          },
          "execution_count": 60,
          "metadata": {},
          "output_type": "execute_result"
        }
      ],
      "source": [
        "worksheet.update([df.columns.values.tolist()] + df.values.tolist())"
      ]
    }
  ],
  "metadata": {
    "kernelspec": {
      "display_name": "Python 3 (ipykernel)",
      "language": "python",
      "name": "python3"
    },
    "language_info": {
      "codemirror_mode": {
        "name": "ipython",
        "version": 3
      },
      "file_extension": ".py",
      "mimetype": "text/x-python",
      "name": "python",
      "nbconvert_exporter": "python",
      "pygments_lexer": "ipython3",
      "version": "3.10.2"
    },
    "colab": {
      "provenance": [],
      "include_colab_link": true
    }
  },
  "nbformat": 4,
  "nbformat_minor": 5
}