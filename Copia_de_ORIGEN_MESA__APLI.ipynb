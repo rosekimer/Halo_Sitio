{
  "cells": [
    {
      "cell_type": "markdown",
      "metadata": {
        "id": "view-in-github",
        "colab_type": "text"
      },
      "source": [
        "<a href=\"https://colab.research.google.com/github/rosekimer/Halo_Sitio/blob/main/Copia_de_ORIGEN_MESA__APLI.ipynb\" target=\"_parent\"><img src=\"https://colab.research.google.com/assets/colab-badge.svg\" alt=\"Open In Colab\"/></a>"
      ]
    },
    {
      "cell_type": "code",
      "execution_count": 1,
      "id": "f76e6bf8",
      "metadata": {
        "id": "f76e6bf8"
      },
      "outputs": [],
      "source": [
        "import pandas as pd\n",
        "import gspread\n",
        "import numpy as np\n",
        "import openpyxl"
      ]
    },
    {
      "cell_type": "code",
      "execution_count": 2,
      "id": "3da88d9b",
      "metadata": {
        "id": "3da88d9b"
      },
      "outputs": [],
      "source": [
        "url= '/content/ORIGEN_MESA.csv'\n",
        "datos_xls= pd.read_csv(url,skiprows=8)\n",
        "#datos_xls"
      ]
    },
    {
      "cell_type": "code",
      "source": [
        "#renombra las columnas\n",
        "datos_xls.columns =['Num', 'ID', 'Asunto', 'Nombre del solicitante', 'Asignado a',\n",
        "       'Fecha de creación', 'Estado', 'Sitio', 'Grupo',\n",
        "       'Creado por', 'Hora de resolución', 'Hora de finalización',\n",
        "       'Tiempo transcurrido', 'Tiempo en espera', 'Fecha de respuesta',\n",
        "       'Tiempo de respuesta de SLA', 'Departamento','form'] "
      ],
      "metadata": {
        "id": "wrogpo-pb9S5"
      },
      "id": "wrogpo-pb9S5",
      "execution_count": 3,
      "outputs": []
    },
    {
      "cell_type": "code",
      "source": [
        "datos_xls\n",
        "#copia los datos de la columna \"ID de la solicitud\" en la del lado izquierdo y lo coloca como numero entero\n",
        "for i in range(len(datos_xls)):\n",
        "    datos_xls.iloc[i,0] = datos_xls['ID'][i].astype(int) "
      ],
      "metadata": {
        "id": "X7z1iaWRby-l"
      },
      "id": "X7z1iaWRby-l",
      "execution_count": 4,
      "outputs": []
    },
    {
      "cell_type": "code",
      "execution_count": 5,
      "id": "6e63e033",
      "metadata": {
        "id": "6e63e033"
      },
      "outputs": [],
      "source": [
        "#ordena por la columna \"Num\"\n",
        "datos_xls = datos_xls.sort_values('Num')"
      ]
    },
    {
      "cell_type": "code",
      "source": [
        "#elimina la 0 y 17 primer columna\n",
        "datos_xls.drop(datos_xls.columns[[0,17]],axis= 'columns', inplace= True )"
      ],
      "metadata": {
        "id": "A_xIacUva36z"
      },
      "id": "A_xIacUva36z",
      "execution_count": 6,
      "outputs": []
    },
    {
      "cell_type": "code",
      "source": [
        "#renombra los titulos de las columnas\n",
        "datos_xls.columns = ['ID', 'Asunto', 'Nombre del solicitante', 'Asignado a',\n",
        "       'Fecha de creación', 'Estado', 'Sitio', 'Grupo',\n",
        "       'Creado por', 'Hora de resolución', 'Hora de finalización',\n",
        "       'Tiempo transcurrido', 'Tiempo en espera', 'Fecha de respuesta',\n",
        "       'Tiempo de respuesta de SLA', 'Departamento'] "
      ],
      "metadata": {
        "id": "TSv67ikynTrK"
      },
      "id": "TSv67ikynTrK",
      "execution_count": 7,
      "outputs": []
    },
    {
      "cell_type": "code",
      "source": [
        "import gspread\n",
        "from oauth2client.service_account import ServiceAccountCredentials\n",
        "\n",
        "scope = ['https://spreadsheets.google.com/feeds',\n",
        "         'https://www.googleapis.com/auth/drive']\n",
        "\n",
        "credentials = ServiceAccountCredentials.from_json_keyfile_name('/content/claveproyectoesquema.json', scope)\n",
        "\n",
        "gc = gspread.authorize(credentials)"
      ],
      "metadata": {
        "id": "hkax-RL63p7n"
      },
      "id": "hkax-RL63p7n",
      "execution_count": 8,
      "outputs": []
    },
    {
      "cell_type": "code",
      "execution_count": 9,
      "id": "3e5b2846",
      "metadata": {
        "id": "3e5b2846"
      },
      "outputs": [],
      "source": [
        "sh = gc.open_by_key('1SVsE5WEzT0o6x_71Qk1E0USZk8vlHclhAu5qDDr1_CI')"
      ]
    },
    {
      "cell_type": "code",
      "execution_count": 10,
      "id": "f2af9579",
      "metadata": {
        "id": "f2af9579"
      },
      "outputs": [],
      "source": [
        "worksheet = sh.get_worksheet(0)"
      ]
    },
    {
      "cell_type": "markdown",
      "source": [
        "guarda todos los registros del anterior worksheet en sheet"
      ],
      "metadata": {
        "id": "yEcGSg-38TA0"
      },
      "id": "yEcGSg-38TA0"
    },
    {
      "cell_type": "code",
      "source": [
        "sheet = worksheet.get_all_values()"
      ],
      "metadata": {
        "id": "luIgryXax1-a"
      },
      "id": "luIgryXax1-a",
      "execution_count": 11,
      "outputs": []
    },
    {
      "cell_type": "markdown",
      "source": [
        "actualiz los registros del worksheet con los nuevos registros del dataframe"
      ],
      "metadata": {
        "id": "Y52PTPFu8gM0"
      },
      "id": "Y52PTPFu8gM0"
    },
    {
      "cell_type": "code",
      "source": [
        "import numpy as np\n",
        "array = np.array(datos_xls.values.tolist())\n",
        "# Write the array to worksheet starting from the A2 cell\n",
        "worksheet.update('B9', array.tolist())"
      ],
      "metadata": {
        "colab": {
          "base_uri": "https://localhost:8080/"
        },
        "id": "FR8n15AOuPNN",
        "outputId": "5406537b-7e20-4619-a48b-b63b8fbd02cc"
      },
      "id": "FR8n15AOuPNN",
      "execution_count": 12,
      "outputs": [
        {
          "output_type": "execute_result",
          "data": {
            "text/plain": [
              "{'spreadsheetId': '1SVsE5WEzT0o6x_71Qk1E0USZk8vlHclhAu5qDDr1_CI',\n",
              " 'updatedRange': \"'ManageEngine Report Framework'!B9:Q23284\",\n",
              " 'updatedRows': 23276,\n",
              " 'updatedColumns': 16,\n",
              " 'updatedCells': 372416}"
            ]
          },
          "metadata": {},
          "execution_count": 12
        }
      ]
    },
    {
      "cell_type": "markdown",
      "source": [
        "hasta aqui el nuevo aplicativo para cargar el data frame en google sheet"
      ],
      "metadata": {
        "id": "hM1l6GR7w2Ov"
      },
      "id": "hM1l6GR7w2Ov"
    },
    {
      "cell_type": "markdown",
      "source": [
        "a la variable tot_reg le asigna el numero total de registros del worksheet anterior"
      ],
      "metadata": {
        "id": "PklO1t-K83i9"
      },
      "id": "PklO1t-K83i9"
    },
    {
      "cell_type": "code",
      "source": [
        "tot_reg=len(sheet)"
      ],
      "metadata": {
        "id": "bgbB2aho2CID"
      },
      "id": "bgbB2aho2CID",
      "execution_count": 13,
      "outputs": []
    },
    {
      "cell_type": "code",
      "source": [
        "tot_reg"
      ],
      "metadata": {
        "colab": {
          "base_uri": "https://localhost:8080/"
        },
        "id": "U8QXJv_hkIHG",
        "outputId": "13d84a80-4f7d-4bd0-aa78-7091c66e629f"
      },
      "id": "U8QXJv_hkIHG",
      "execution_count": 14,
      "outputs": [
        {
          "output_type": "execute_result",
          "data": {
            "text/plain": [
              "23284"
            ]
          },
          "metadata": {},
          "execution_count": 14
        }
      ]
    },
    {
      "cell_type": "markdown",
      "source": [
        "a la variable tot_new_reg le asigna el numero total de registros del data frame"
      ],
      "metadata": {
        "id": "8UAxbf3C9Muk"
      },
      "id": "8UAxbf3C9Muk"
    },
    {
      "cell_type": "code",
      "source": [
        "tot_new_reg = len(datos_xls)"
      ],
      "metadata": {
        "id": "9IwygrGH4UTc"
      },
      "id": "9IwygrGH4UTc",
      "execution_count": 15,
      "outputs": []
    },
    {
      "cell_type": "code",
      "source": [
        "range(len(datos_xls)-tot_reg)"
      ],
      "metadata": {
        "colab": {
          "base_uri": "https://localhost:8080/"
        },
        "id": "oEwEycDi5CGL",
        "outputId": "c156640e-7399-4ad0-ccf4-0b57e58d6d9e"
      },
      "id": "oEwEycDi5CGL",
      "execution_count": 16,
      "outputs": [
        {
          "output_type": "execute_result",
          "data": {
            "text/plain": [
              "range(0, -8)"
            ]
          },
          "metadata": {},
          "execution_count": 16
        }
      ]
    },
    {
      "cell_type": "code",
      "source": [
        "k= tot_new_reg-tot_reg + 8\n",
        "k=str(k)\n",
        "len(k)\n",
        "k=int(k)\n",
        "k"
      ],
      "metadata": {
        "colab": {
          "base_uri": "https://localhost:8080/"
        },
        "id": "joH1XU8JXfqF",
        "outputId": "a91d8847-4bf3-4dc6-ca99-917762ec4812"
      },
      "id": "joH1XU8JXfqF",
      "execution_count": 17,
      "outputs": [
        {
          "output_type": "execute_result",
          "data": {
            "text/plain": [
              "0"
            ]
          },
          "metadata": {},
          "execution_count": 17
        }
      ]
    },
    {
      "cell_type": "code",
      "source": [
        "k= tot_new_reg-tot_reg + 8\n",
        "k=str(k)\n",
        "p=len(k)\n",
        "c = k[0]\n",
        "c = int(c)\n",
        "k=int(k)\n",
        "\n",
        "\n",
        "def update_formula(k):\n",
        "   a = 0\n",
        "   r = 0\n",
        "   b = 0\n",
        "   if k > 100 and k<= 170:\n",
        "      a = k/3\n",
        "      b = k%3\n",
        "      r = 3\n",
        "   elif k > 170 and k <= 235:\n",
        "      a = k/4\n",
        "      b = k%4\n",
        "      r = 4\n",
        "   elif k > 235 and k <= 345:\n",
        "      a = k/6\n",
        "      b = k%6\n",
        "      r = 6\n",
        "   elif k > 345 and k <= 470:\n",
        "      a = k/8\n",
        "      b = k%8\n",
        "      r = 8\n",
        "   elif k > 470 and k <= 599:\n",
        "      a = k/10\n",
        "      b = k%10\n",
        "      r = 10\n",
        "   elif k > 599 and k <= 700:\n",
        "      a = k/12\n",
        "      b = k%12\n",
        "      r = 12\n",
        "   elif k > 700 and k <= 950:\n",
        "      a = k/16\n",
        "      b = k%16\n",
        "      r = 16\n",
        "   elif k > 50 and k <= 100:\n",
        "      a = k/2\n",
        "      b = k%2\n",
        "      r = 2\n",
        "   elif k > 0 and k <= 50:\n",
        "      a = k\n",
        "      b = 0\n",
        "      r = 1 \n",
        "   else:\n",
        "      print('no hay datos o sobrepasa el numero de registros por insertar')\n",
        "\n",
        "    #print(f'valor de a: {a}') \n",
        "   a=int(a)\n",
        "   x=tot_reg\n",
        "   n = 0\n",
        "   i=1\n",
        "   while  i <= int(r):\n",
        "        print(i)\n",
        "        j = 1\n",
        "        while j <= a:\n",
        "          n = j+x\n",
        "          worksheet.update_cell(n,1,'=SI(O(E'+str(n)+'=\"DESARROLLO\";E'+str(n)+'=\"Mario Herrera Sanchez\"); SI(AÑO(F'+str(n)+')=2020;ALEATORIO.ENTRE(1;10);SI(AÑO(F'+str(n)+')=2021;ALEATORIO.ENTRE(1;12);SI(AÑO(F'+str(n)+')=2022;ALEATORIO.ENTRE(1;16);\"\")));\"\")')\n",
        "          print(j)\n",
        "          j +=1;\n",
        "        m = 150000\n",
        "        if i == r:\n",
        "          x = x+ a\n",
        "          break\n",
        "        else:\n",
        "          while m > 0:\n",
        "            print(m)\n",
        "            m -= 1;\n",
        "        x = x+ a\n",
        "        i += 1;\n",
        "   if b > 0:\n",
        "      d=1\n",
        "      while d <= b:\n",
        "        n = x + d\n",
        "        worksheet.update_cell(n,1,'=SI(O(E'+str(n)+'=\"DESARROLLO\";E'+str(n)+'=\"Mario Herrera Sanchez\"); SI(AÑO(F'+str(n)+')=2020;ALEATORIO.ENTRE(1;10);SI(AÑO(F'+str(n)+')=2021;ALEATORIO.ENTRE(1;12);SI(AÑO(F'+str(n)+')=2022;ALEATORIO.ENTRE(1;16);\"\")));\"\")')\n",
        "        print(d)\n",
        "        d +=1;   \n",
        "\n",
        "\n",
        "print(f'valor de \"c\",\"p\" y \"k\":{c} {p} {k}')\n",
        "update_formula(k)\n",
        "\n",
        "\n"
      ],
      "metadata": {
        "colab": {
          "base_uri": "https://localhost:8080/"
        },
        "id": "nQmXnLJE48_1",
        "outputId": "fc0ab3ac-b46e-4e53-a4d2-9ab0168727ef"
      },
      "id": "nQmXnLJE48_1",
      "execution_count": 19,
      "outputs": [
        {
          "output_type": "stream",
          "name": "stdout",
          "text": [
            "valor de \"c\",\"p\" y \"k\":0 1 0\n",
            "no hay datos o sobrepasa el numero de registros por insertar\n"
          ]
        }
      ]
    },
    {
      "cell_type": "code",
      "source": [
        "k= tot_new_reg-tot_reg + 8\n",
        "k=str(k)\n",
        "p=len(k)\n",
        "c = k[0]\n",
        "c = int(c)\n",
        "k=int(k)\n",
        "\n",
        "def update_formula(k):\n",
        "   a = 0\n",
        "   r = 0\n",
        "   b = 0\n",
        "   if k > 100 and k<= 170:\n",
        "      a = k/3\n",
        "      b = k%3\n",
        "      r = 3\n",
        "   elif k > 170 and k <= 235:\n",
        "      a = k/4\n",
        "      b = k%4\n",
        "      r = 4\n",
        "   elif k > 235 and k <= 345:\n",
        "      a = k/6\n",
        "      b = k%6\n",
        "      r = 6\n",
        "   elif k > 345 and k <= 470:\n",
        "      a = k/8\n",
        "      b = k%8\n",
        "      r = 8\n",
        "   elif k > 470 and k <= 599:\n",
        "      a = k/10\n",
        "      b = k%10\n",
        "      r = 10\n",
        "   elif k > 599 and k <= 700:\n",
        "      a = k/12\n",
        "      b = k%12\n",
        "      r = 12\n",
        "   elif k > 700 and k <= 950:\n",
        "      a = k/16\n",
        "      b = k%16\n",
        "      r = 16\n",
        "   elif k > 50 and k <= 100:\n",
        "      a = k/2\n",
        "      b = k%2\n",
        "      r = 2\n",
        "   elif k > 0 and k <= 50:\n",
        "      a = k\n",
        "      b = 0\n",
        "      r = 1 \n",
        "   else:\n",
        "      print('no hay datos o sobrepasa el numero de registros por insertar')\n",
        "\n",
        "    #print(f'valor de a: {a}') \n",
        "   a=int(a)\n",
        "   x=tot_reg\n",
        "   n = 0\n",
        "   i=1\n",
        "   while  i <= int(r):\n",
        "        #print(i)\n",
        "        j = 1\n",
        "        while j <= a:\n",
        "          n = j+x\n",
        "          worksheet.update_cell(n,21,'=SI(A'+str(n)+'=\"\";\"\";SI(AÑO(F'+str(n)+')=2020;BUSCARV(A'+str(n)+';Recursos!$E$20:$F$29;2);SI(AÑO(F'+str(n)+')=2021;BUSCARV(A'+str(n)+';Recursos!$E$3:$F$14;2);SI(AÑO(F'+str(n)+')=2022;BUSCARV(A'+str(n)+';Recursos!$I$3:$J$18;2);\"\"))))')\n",
        "          #print(j)\n",
        "          j +=1;\n",
        "        m = 150000\n",
        "        if i == r:\n",
        "          x = x+ a\n",
        "          break\n",
        "        else:\n",
        "          while m > 0:\n",
        "            #print(m)\n",
        "            m -= 1;\n",
        "        x = x+ a\n",
        "        i += 1;\n",
        "   if b > 0:\n",
        "      d=1\n",
        "      while d <= b:\n",
        "        n = x + d\n",
        "        worksheet.update_cell(n,21,'=SI(A'+str(n)+'=\"\";\"\";SI(AÑO(F'+str(n)+')=2020;BUSCARV(A'+str(n)+';Recursos!$E$20:$F$29;2);SI(AÑO(F'+str(n)+')=2021;BUSCARV(A'+str(n)+';Recursos!$E$3:$F$14;2);SI(AÑO(F'+str(n)+')=2022;BUSCARV(A'+str(n)+';Recursos!$I$3:$J$18;2);\"\"))))')\n",
        "        #print(d)\n",
        "        d +=1;   \n",
        "\n",
        "\n",
        "print(f'valor de \"c\",\"p\" y \"k\":{c} {p} {k}')\n",
        "update_formula(k)\n",
        "\n",
        "\n"
      ],
      "metadata": {
        "id": "6oK6qAAQuzN9"
      },
      "id": "6oK6qAAQuzN9",
      "execution_count": null,
      "outputs": []
    },
    {
      "cell_type": "code",
      "source": [
        "k= tot_new_reg-tot_reg + 8\n",
        "k=str(k)\n",
        "p=len(k)\n",
        "c = k[0]\n",
        "c = int(c)\n",
        "k=int(k)\n",
        "if c == 1 and p == 3:\n",
        "    a = k/3\n",
        "    a=int(a)\n",
        "    b = k%3\n",
        "    x=tot_reg\n",
        "    n = 0\n",
        "    i=1\n",
        "    while  i <= 3:\n",
        "        \n",
        "        print(i)\n",
        "        j = 1\n",
        "        while j <= a:\n",
        "          n = j+x\n",
        "          worksheet.update_cell(n,1,'=SI(O(E'+str(n)+'=\"DESARROLLO\";E'+str(n)+'=\"Mario Herrera Sanchez\"); SI(AÑO(F'+str(n)+')=2020;ALEATORIO.ENTRE(1;10);SI(AÑO(F'+str(n)+')=2021;ALEATORIO.ENTRE(1;12);SI(AÑO(F'+str(n)+')=2022;ALEATORIO.ENTRE(1;16);\"\")));\"\")')\n",
        "          print(j)\n",
        "          j +=1;\n",
        "        \n",
        "        m = 150000\n",
        "        if i == 3:\n",
        "          x = x+ a\n",
        "          break\n",
        "        else:\n",
        "          while m > 0:\n",
        "            print(m)\n",
        "            m -= 1;\n",
        "\n",
        "        x = x+ a\n",
        "        i += 1;\n",
        "    if b > 0:\n",
        "      d=1\n",
        "      while d <= b:\n",
        "        n = x + d\n",
        "        worksheet.update_cell(n,1,'=SI(O(E'+str(n)+'=\"DESARROLLO\";E'+str(n)+'=\"Mario Herrera Sanchez\"); SI(AÑO(F'+str(n)+')=2020;ALEATORIO.ENTRE(1;10);SI(AÑO(F'+str(n)+')=2021;ALEATORIO.ENTRE(1;12);SI(AÑO(F'+str(n)+')=2022;ALEATORIO.ENTRE(1;16);\"\")));\"\")')\n",
        "        print(d)\n",
        "        d +=1;\n",
        "     \n",
        "elif c == 2 and p == 3:\n",
        "    a = k/4\n",
        "    a=int(a)\n",
        "    b = k%4\n",
        "    x=tot_reg\n",
        "    n = 0\n",
        "    i=1\n",
        "    while  i <= 4:\n",
        "        \n",
        "        print(i)\n",
        "        j = 1\n",
        "        while j <= a:\n",
        "          n = j+x\n",
        "          worksheet.update_cell(n,1,'=SI(O(E'+str(n)+'=\"DESARROLLO\";E'+str(n)+'=\"Mario Herrera Sanchez\"); SI(AÑO(F'+str(n)+')=2020;ALEATORIO.ENTRE(1;10);SI(AÑO(F'+str(n)+')=2021;ALEATORIO.ENTRE(1;12);SI(AÑO(F'+str(n)+')=2022;ALEATORIO.ENTRE(1;16);\"\")));\"\")')\n",
        "          print(j)\n",
        "          j +=1;\n",
        "        #m = 250000\n",
        "        m = 150000\n",
        "        if i == 4:\n",
        "          x = x+ a\n",
        "          break\n",
        "        else:\n",
        "          while m > 0:\n",
        "            print(m)\n",
        "            m -= 1;\n",
        "\n",
        "        x = x+ a\n",
        "        i += 1;\n",
        "    if b > 0:\n",
        "      d=1\n",
        "      while d <= b:\n",
        "        n = x + d\n",
        "        worksheet.update_cell(n,1,'=SI(O(E'+str(n)+'=\"DESARROLLO\";E'+str(n)+'=\"Mario Herrera Sanchez\"); SI(AÑO(F'+str(n)+')=2020;ALEATORIO.ENTRE(1;10);SI(AÑO(F'+str(n)+')=2021;ALEATORIO.ENTRE(1;12);SI(AÑO(F'+str(n)+')=2022;ALEATORIO.ENTRE(1;16);\"\")));\"\")')\n",
        "        print(d)\n",
        "        d +=1;\n",
        "     \n",
        "elif c == 3 and p == 3:\n",
        "    a = k/6\n",
        "    a=int(a)\n",
        "    b = k%6\n",
        "    x=tot_reg\n",
        "    n = 0\n",
        "    i=1\n",
        "    while  i <= 6:\n",
        "        \n",
        "        print(i)\n",
        "        j = 1\n",
        "        while j <= a:\n",
        "          n = j+x\n",
        "          worksheet.update_cell(n,1,'=SI(O(E'+str(n)+'=\"DESARROLLO\";E'+str(n)+'=\"Mario Herrera Sanchez\"); SI(AÑO(F'+str(n)+')=2020;ALEATORIO.ENTRE(1;10);SI(AÑO(F'+str(n)+')=2021;ALEATORIO.ENTRE(1;12);SI(AÑO(F'+str(n)+')=2022;ALEATORIO.ENTRE(1;16);\"\")));\"\")')\n",
        "          print(j)\n",
        "          j +=1;\n",
        "        \n",
        "        m = 150000\n",
        "        if i == 6:\n",
        "          x = x+ a\n",
        "          break\n",
        "        else:\n",
        "          while m > 0:\n",
        "            print(m)\n",
        "            m -= 1;\n",
        "\n",
        "        x = x+ a\n",
        "        i += 1;\n",
        "    if b > 0:\n",
        "      d=1\n",
        "      while d <= b:\n",
        "        n = x + d\n",
        "        worksheet.update_cell(n,1,'=SI(O(E'+str(n)+'=\"DESARROLLO\";E'+str(n)+'=\"Mario Herrera Sanchez\"); SI(AÑO(F'+str(n)+')=2020;ALEATORIO.ENTRE(1;10);SI(AÑO(F'+str(n)+')=2021;ALEATORIO.ENTRE(1;12);SI(AÑO(F'+str(n)+')=2022;ALEATORIO.ENTRE(1;16);\"\")));\"\")')\n",
        "        print(d)\n",
        "        d +=1;\n",
        "elif p == 2:\n",
        "    a = k/2\n",
        "    a=int(a)\n",
        "    b = k%2\n",
        "    x=tot_reg\n",
        "    n = 0\n",
        "    i=1\n",
        "    while  i <= 2:\n",
        "        \n",
        "        print(i)\n",
        "        j = 1\n",
        "        while j <= a:\n",
        "          n = j+x\n",
        "          worksheet.update_cell(n,1,'=SI(O(E'+str(n)+'=\"DESARROLLO\";E'+str(n)+'=\"Mario Herrera Sanchez\"); SI(AÑO(F'+str(n)+')=2020;ALEATORIO.ENTRE(1;10);SI(AÑO(F'+str(n)+')=2021;ALEATORIO.ENTRE(1;12);SI(AÑO(F'+str(n)+')=2022;ALEATORIO.ENTRE(1;16);\"\")));\"\")')\n",
        "          print(j)\n",
        "          j +=1;\n",
        "        \n",
        "        m = 150000\n",
        "        if i == 2:\n",
        "          x = x+ a\n",
        "          break\n",
        "        else:\n",
        "          while m > 0:\n",
        "            print(m)\n",
        "            m -= 1;\n",
        "\n",
        "        x = x+ a\n",
        "        i += 1;\n",
        "    if b > 0:\n",
        "      d=1\n",
        "      while d <= b:\n",
        "        n = x + d\n",
        "        worksheet.update_cell(n,1,'=SI(O(E'+str(n)+'=\"DESARROLLO\";E'+str(n)+'=\"Mario Herrera Sanchez\"); SI(AÑO(F'+str(n)+')=2020;ALEATORIO.ENTRE(1;10);SI(AÑO(F'+str(n)+')=2021;ALEATORIO.ENTRE(1;12);SI(AÑO(F'+str(n)+')=2022;ALEATORIO.ENTRE(1;16);\"\")));\"\")')\n",
        "        print(d)\n",
        "        d +=1;\n",
        "else:\n",
        "  print(\"todo mal\") "
      ],
      "metadata": {
        "id": "grpFn_2Kjh3K"
      },
      "id": "grpFn_2Kjh3K",
      "execution_count": null,
      "outputs": []
    },
    {
      "cell_type": "code",
      "source": [
        "k= tot_new_reg-tot_reg + 8\n",
        "k=str(k)\n",
        "p=len(k)\n",
        "c = k[0]\n",
        "c = int(c)\n",
        "k=int(k)\n",
        "k"
      ],
      "metadata": {
        "id": "OHdfSmnSuWo2"
      },
      "id": "OHdfSmnSuWo2",
      "execution_count": null,
      "outputs": []
    },
    {
      "cell_type": "code",
      "source": [
        "#clase para poder generar la clausula swich-case \n",
        "class switch:\n",
        "\n",
        "\tdef __init__(self, variable, comparator=None, strict=False):\n",
        "\t\tself.variable = variable\n",
        "\t\tself.matched = False\n",
        "\t\tself.matching = False\n",
        "\t\tif comparator:\n",
        "\t\t\tself.comparator = comparator\n",
        "\t\telse:\n",
        "\t\t\tself.comparator = lambda x, y: x == y\n",
        "\t\tself.strict = strict\n",
        "\n",
        "\tdef __enter__(self):\n",
        "\t\treturn self\n",
        "\n",
        "\tdef __exit__(self, exc_type, exc_val, exc_tb):\n",
        "\t\tpass\n",
        "\n",
        "\tdef case(self, expr, break_=False):\n",
        "\t\tif self.strict:\n",
        "\t\t\tif self.matched:\n",
        "\t\t\t\treturn False\n",
        "\t\tif self.matching or self.comparator(self.variable, expr):\n",
        "\t\t\tif not break_:\n",
        "\t\t\t\tself.matching = True\n",
        "\t\t\telse:\n",
        "\t\t\t\tself.matched = True\n",
        "\t\t\t\tself.matching = False\n",
        "\t\t\treturn True\n",
        "\t\telse:\n",
        "\t\t\treturn False\n",
        "\n",
        "\tdef default(self):\n",
        "\t\treturn not self.matched and not self.matching\n",
        "\n",
        "\n",
        "dia = 4\n",
        "\n",
        "with switch(dia) as s:\n",
        "\tif s.case(1):\n",
        "\t\tprint('lunes')\n",
        "\tif s.case(2):\n",
        "\t\tprint('martes')\n",
        "\tif s.case(3):\n",
        "\t\tprint('miércoles')\n",
        "\tif s.case(4):\n",
        "\t\tprint('jueves')\n",
        "\tif s.case(5):\n",
        "\t\tprint('viernes')\n",
        "\tif s.case(6):\n",
        "\t\tprint('sábado')\n",
        "\tif s.case(7):\n",
        "\t\tprint('domingo')\n",
        "\tif s.default():\n",
        "\t\tprint('error')"
      ],
      "metadata": {
        "id": "SdJvmI7WX7AQ",
        "colab": {
          "base_uri": "https://localhost:8080/"
        },
        "outputId": "0f46aa65-5309-418a-89b4-7ea124a35cd2"
      },
      "id": "SdJvmI7WX7AQ",
      "execution_count": 2,
      "outputs": [
        {
          "output_type": "stream",
          "name": "stdout",
          "text": [
            "jueves\n",
            "viernes\n",
            "sábado\n",
            "domingo\n"
          ]
        }
      ]
    },
    {
      "cell_type": "code",
      "source": [
        "class Semaforo:\n",
        "\n",
        "\tdef __init__(self):\n",
        "\t\tself.luz = 'Rojo' #creamos e inicializamos la variable de instancia\n",
        "\n",
        "\tdef cambiar(self, nuevo_estado):\n",
        "\t\tself.luz = nuevo_estado #cambiamos el valor de la variable de instancia\n",
        "\n",
        "#creamos dos instancias\n",
        "un_semaforo = Semaforo() \n",
        "otro_semaforo = Semaforo()\n",
        "otro_semaforo_mas = Semaforo()\n",
        "\n",
        "#cambiamos el valor de la variable de instancia luz de una de las instancias\n",
        "un_semaforo.cambiar('Verde') \n",
        "otro_semaforo.cambiar('Azul')\n",
        "\n",
        "#mostramos por pantalla el valor de las variables de cada instancia\n",
        "print(un_semaforo.luz)\n",
        "print(otro_semaforo.luz)\n",
        "print(otro_semaforo_mas.luz)"
      ],
      "metadata": {
        "id": "gGLsOphYjqlj",
        "colab": {
          "base_uri": "https://localhost:8080/"
        },
        "outputId": "d64c173a-9cee-409e-b7b4-9ad89363d0fc"
      },
      "id": "gGLsOphYjqlj",
      "execution_count": 4,
      "outputs": [
        {
          "output_type": "stream",
          "name": "stdout",
          "text": [
            "Verde\n",
            "Azul\n",
            "Rojo\n"
          ]
        }
      ]
    },
    {
      "cell_type": "code",
      "source": [
        "if __name__ == \"__main__\":\n",
        "       def ConR(self):\n",
        "         Conjunto = [\"A\"]\n",
        "         Dict = {\"A\":1}\n",
        "         Cont = 1\n",
        "         Aux=None\n",
        "         AUX=None\n",
        "         Add = None\n",
        "         OK=False\n",
        "         M=0\n",
        "         print(len(Conjunto)+1)\n",
        "         while OK == False:\n",
        "            #try:\n",
        "                M = int( (input(\"Ingrese n : \") ) )\n",
        "                while len(Conjunto)<=M-1:\n",
        "                        Add = input(\"Ingrese el Elemento N\\xfamero \" + str(Cont) + \" : \")\n",
        "                        if Add in Conjunto:\n",
        "                                    Aux = Dict.get(Add)\n",
        "                                    AUX = Aux + 1\n",
        "                                    Dict.update({Add:AUX})\n",
        "                                    print(Dict)\n",
        "                                    Conjunto.append(Add)\n",
        "                                    Cont+=1\n",
        "                        else:\n",
        "                            Conjunto.append(Add)\n",
        "                            Dict.update({Add:1})\n",
        "                            Cont+=1\n",
        "                        M = factorial(M)\n",
        "                        print(\"Hay \" + str(M) + \" Posibles Permutaciones con Repetici\\xf3n\")\n",
        "                        OK = True\n",
        "            #except:\n",
        "                print(\"Ha ocurrido un error   :(\")\n",
        "                print(\"\\xbfSegugo de que has introducido un n\\xfamero?\")\n",
        "         return M\n",
        "         ConR(self)"
      ],
      "metadata": {
        "id": "tlc5CbiF-NB_"
      },
      "id": "tlc5CbiF-NB_",
      "execution_count": 8,
      "outputs": []
    },
    {
      "cell_type": "code",
      "source": [
        "class Perro:\n",
        "\n",
        "\ttipo_de_animal = 'Mamífero' #se define la variable de clase\n",
        "\n",
        "\tdef __init__(self, nombre):\n",
        "\t\tself.nombre = nombre #se define la variable de instancia\n",
        "\n",
        "#creamos dos instancias de Perro\n",
        "luna = Perro('Luna')\n",
        "golfo = Perro('Golfo')\n",
        "\n",
        "#mostramos la información de las variables de clase y de instancia\n",
        "print(f'{luna.nombre} es un {luna.tipo_de_animal}') #acceso a través de la instancia\n",
        "print(f'{golfo.nombre} es un {golfo.tipo_de_animal}')\n",
        "\n",
        "print(f'Todos los perros son de tipo {Perro.tipo_de_animal}') #acceso a través de la clase"
      ],
      "metadata": {
        "id": "9HEnkMJsk23X",
        "colab": {
          "base_uri": "https://localhost:8080/"
        },
        "outputId": "b1531194-d1fb-4c56-d2ac-bb61fb7c77a2"
      },
      "id": "9HEnkMJsk23X",
      "execution_count": 9,
      "outputs": [
        {
          "output_type": "stream",
          "name": "stdout",
          "text": [
            "Luna es un Mamífero\n",
            "Golfo es un Mamífero\n",
            "Todos los perros son de tipo Mamífero\n"
          ]
        }
      ]
    },
    {
      "cell_type": "code",
      "source": [
        "class Vivienda:\n",
        "\n",
        "\ttemperatura_maxima = -100 #inicializamos a un valor ficticio muy pequeño\n",
        "\n",
        "\tdef __init__(self, temperatura):\n",
        "\t\tself.temperatura_actual = temperatura\n",
        "\t\tself.registrar_temperatura(temperatura)\n",
        "\n",
        "\tdef registrar_temperatura(self, nueva_temperatura):\n",
        "\t\tself.temperatura_actual = nueva_temperatura\n",
        "\t\t# si alguna vivienda supera la temperatura máxima se actualiza la variable de clase\n",
        "\t\tif self.temperatura_actual > self.temperatura_maxima:\n",
        "\t\t\tself.__class__.temperatura_maxima = self.temperatura_actual\n",
        "\n",
        "#creamos tres viviendas y registramos su temperatura inicial\n",
        "v1 = Vivienda(20)\n",
        "v2 = Vivienda(23)\n",
        "v3 = Vivienda(18)\n",
        "\n",
        "#mostramos la temperatura máxima\n",
        "print(f'La temperatura máxima es {Vivienda.temperatura_maxima}')\n",
        "\n",
        "#registramos algunas temperaturas nuevas\n",
        "v1.registrar_temperatura(25)\n",
        "v2.registrar_temperatura(22)\n",
        "v3.registrar_temperatura(21)\n",
        "\n",
        "#mostramos las temperaturas de las viviendas y la temperatura máxima\n",
        "print(f'Temperatura vivienda 1: {v1.temperatura_actual}')\n",
        "print(f'Temperatura vivienda 2: {v2.temperatura_actual}')\n",
        "print(f'Temperatura vivienda 3: {v3.temperatura_actual}')\n",
        "print(f'La temperatura máxima es {Vivienda.temperatura_maxima}')"
      ],
      "metadata": {
        "colab": {
          "base_uri": "https://localhost:8080/"
        },
        "id": "KRyPhx-Wnbc9",
        "outputId": "f6ed41f5-3c4b-4070-e561-57dc634bd411"
      },
      "id": "KRyPhx-Wnbc9",
      "execution_count": null,
      "outputs": [
        {
          "output_type": "stream",
          "name": "stdout",
          "text": [
            "La temperatura máxima es 23\n",
            "Temperatura vivienda 1: 25\n",
            "Temperatura vivienda 2: 22\n",
            "Temperatura vivienda 3: 21\n",
            "La temperatura máxima es 25\n"
          ]
        }
      ]
    },
    {
      "cell_type": "code",
      "source": [
        "z=range(3)\n",
        "z=list(z)\n",
        "\n",
        "s = ['foo', 'bar']\n",
        "while len(z):\n",
        "    print(z.pop(0))\n",
        "    #z = [0,1,2]\n",
        "    while len(z):\n",
        "        print(z.pop(0))"
      ],
      "metadata": {
        "colab": {
          "base_uri": "https://localhost:8080/"
        },
        "id": "ZHGLMsZtfkuI",
        "outputId": "c1332674-70fe-4c62-da84-bbad2c45f5ff"
      },
      "id": "ZHGLMsZtfkuI",
      "execution_count": 10,
      "outputs": [
        {
          "output_type": "stream",
          "name": "stdout",
          "text": [
            "0\n",
            "1\n",
            "2\n"
          ]
        }
      ]
    },
    {
      "cell_type": "code",
      "source": [
        "m = 50000\n",
        "while m > 0:\n",
        "   m -= 1\n",
        "   print(m)"
      ],
      "metadata": {
        "id": "dt9REEooHKL8"
      },
      "id": "dt9REEooHKL8",
      "execution_count": null,
      "outputs": []
    },
    {
      "cell_type": "code",
      "source": [
        "j=range(len(datos_xls)-tot_reg)\n",
        "x=tot_reg\n",
        "for i in j:\n",
        "  n = i+x\n",
        "  worksheet.update_cell(n,1,'=SI(O(E'+str(n)+'=\"DESARROLLO\";E'+str(n)+'=\"Mario Herrera Sanchez\"); SI(AÑO(F'+str(n)+')=2020;ALEATORIO.ENTRE(1;10);SI(AÑO(F'+str(n)+')=2021;ALEATORIO.ENTRE(1;12);SI(AÑO(F'+str(n)+')=2022;ALEATORIO.ENTRE(1;16);\"\")));\"\")')\n"
      ],
      "metadata": {
        "id": "KtRvNORH4uXN"
      },
      "id": "KtRvNORH4uXN",
      "execution_count": null,
      "outputs": []
    },
    {
      "cell_type": "code",
      "source": [
        "#emulando en bucle do while el cual siempre se ejecuta al menos una vez\n",
        "while True:\n",
        "     number = int(input(\"Enter a positive number: \"))\n",
        "     print(number)\n",
        "     if not number > 0:\n",
        "         break"
      ],
      "metadata": {
        "id": "W7neW7G5zkMO"
      },
      "id": "W7neW7G5zkMO",
      "execution_count": null,
      "outputs": []
    },
    {
      "cell_type": "code",
      "source": [
        "#adivina el numero que se genera aleatoriamente con el randint \n",
        "from random import randint\n",
        "\n",
        "LOW, HIGH = 1, 10\n",
        "\n",
        "secret_number = randint(LOW, HIGH)\n",
        "clue = \"\"\n",
        "\n",
        "def process_move(clue):\n",
        "    user_input = input(f\"adivina el numero entre {LOW} y {HIGH} {clue} \")\n",
        "    number = int(user_input)\n",
        "    if number > secret_number:\n",
        "        clue = f\"(menos que {number})\"\n",
        "    elif number < secret_number:\n",
        "        clue = f\"(mayor que {number})\"\n",
        "    return number, clue\n",
        "\n",
        "number, clue = process_move(clue)  # First iteration\n",
        "\n",
        "while number != secret_number:\n",
        "    number, clue = process_move(clue)\n",
        "\n",
        "print(f\"Haz adivinado! El numero secreto es: {number}\")"
      ],
      "metadata": {
        "colab": {
          "base_uri": "https://localhost:8080/"
        },
        "id": "FszS8khG91bP",
        "outputId": "3f9105c3-bd01-453c-940a-0ba4ea5891b8"
      },
      "id": "FszS8khG91bP",
      "execution_count": null,
      "outputs": [
        {
          "output_type": "stream",
          "name": "stdout",
          "text": [
            "Guess a number between 1 and 10  5\n",
            "Guess a number between 1 and 10 (greater than 5) 6\n",
            "Guess a number between 1 and 10 (greater than 6) 7\n",
            "You guessed it! The secret number is 7\n"
          ]
        }
      ]
    },
    {
      "cell_type": "code",
      "source": [
        "j=range(len(datos_xls)-tot_reg)\n",
        "j=list(j)\n",
        "j=len(j)\n",
        "x=tot_reg\n",
        "y=tot_reg + j + 9\n",
        "\n",
        "rango=range(x,y)\n",
        "lista = list(rango)\n",
        "#j = range(len(j))\n",
        "#val=int(j)\n",
        "#r=val%3\n",
        "#j\n",
        "\n",
        "#dfj\n",
        "lista\n",
        "#rango\n",
        "dflista = pd.DataFrame(lista)\n",
        "\n",
        "dflista.columns =['Num']\n",
        "#dflista['Num']=dflista['Num'].astype(int) \n",
        "dflista\n",
        "\n",
        "\n",
        "dflista\n",
        "#for i in dflista['Num']:\n",
        "#    if i < y:\n",
        "#      worksheet.update_cell(i,1,'=SI(O(E'+str(i)+'=\"DESARROLLO\";E'+str(i)+'=\"Mario Herrera Sanchez\"); SI(AÑO(F'+str(i)+')=2020;ALEATORIO.ENTRE(1;10);SI(AÑO(F'+str(i)+')=2021;ALEATORIO.ENTRE(1;12);SI(AÑO(F'+str(i)+')=2022;ALEATORIO.ENTRE(1;16);\"\")));\"\")')\n",
        "\n",
        "dflista['Num'] = np.where(dflista['Num']<y-200, \n",
        "                           'value1',np.where(dflista['Num']<y-100, \n",
        "                                              'value2',np.where(dflista['Num']<y-10, \n",
        "                                                                'value3', 'value4')))       \n",
        "#dflista.loc[dflista['Num'] <= int(y), 'equal_or_lower_than_4?'] = '=SI(O(E'+str(dflista['Num'])+'=\"DESARROLLO\";E'+str(dflista['Num'])+'=\"Mario Herrera Sanchez\"); SI(AÑO(F'+str(dflista['Num'])+')=2020;ALEATORIO.ENTRE(1;10);SI(AÑO(F'+str(dflista['Num'])+')=2021;ALEATORIO.ENTRE(1;12);SI(AÑO(F'+str(dflista['Num'])+')=2022;ALEATORIO.ENTRE(1;16);\"\")));\"\")'\n",
        "#for i in dflista['Num']:\n",
        "print(dflista)"
      ],
      "metadata": {
        "id": "vNvOKkQS-UWO"
      },
      "id": "vNvOKkQS-UWO",
      "execution_count": null,
      "outputs": []
    },
    {
      "cell_type": "code",
      "source": [
        "#j = range(tot_new_reg-tot_reg) convertir la resta en rango\n",
        "#j=list(j) conversion a lista\n",
        "#j=len(j) determinar cuantos elementos hay en list\n",
        "#x=tot_reg\n",
        "#este valor seria hasta que celda llegarian los datos en googl sheet y=tot_reg + j + 9(9 es el num de celda a partir de donde se pegaron los registros en google sheet)\n",
        "#y=tot_new_reg\n",
        "\n",
        "#rango=range(x,y)\n",
        "#lista = list(rango)\n",
        "#j = range(len(j))\n",
        "#val=int(j)\n",
        "#r=val%3\n",
        "#len(datos_xls)\n",
        "#n = j%3\n",
        "\n",
        "n = tot_reg\n",
        "j=range(tot_new_reg-tot_reg)\n",
        "i = 1\n",
        "while i < len(j):\n",
        "    worksheet.update_cell(n,1,'=SI(O(E'+str(n)+'=\"DESARROLLO\";E'+str(n)+'=\"Mario Herrera Sanchez\"); SI(AÑO(F'+str(n)+')=2020;ALEATORIO.ENTRE(1;10);SI(AÑO(F'+str(n)+')=2021;ALEATORIO.ENTRE(1;12);SI(AÑO(F'+str(n)+')=2022;ALEATORIO.ENTRE(1;16);\"\")));\"\")')\n",
        "    n = n + 1\n",
        "    i += 1\n",
        "    print(n)\n",
        "\n",
        "#if j % 3 != 0 : \n",
        "#    print(\"Invalid row_number\") \n",
        "#else:\n",
        "#  d=j/3\n",
        "#  d=int(d)\n",
        "#  j=range(d)\n",
        "#  x=tot_reg\n",
        "#  for i in j:\n",
        "#    n = i+x\n",
        "    #worksheet.update_cell(n,1,'=SI(O(E'+str(n)+'=\"DESARROLLO\";E'+str(n)+'=\"Mario Herrera Sanchez\"); SI(AÑO(F'+str(n)+')=2020;ALEATORIO.ENTRE(1;10);SI(AÑO(F'+str(n)+')=2021;ALEATORIO.ENTRE(1;12);SI(AÑO(F'+str(n)+')=2022;ALEATORIO.ENTRE(1;16);\"\")));\"\")')\n",
        "\n",
        "\n",
        "\n",
        "#k= tot_new_reg-tot_reg\n",
        "#k=str(k)\n",
        "#len(k)\n",
        "#k[0]\n",
        "\n",
        "#k=int(k)\n",
        "#l=k%3\n",
        "#l\n",
        "\n",
        "    "
      ],
      "metadata": {
        "id": "Ozb2Oys7DT1s"
      },
      "id": "Ozb2Oys7DT1s",
      "execution_count": null,
      "outputs": []
    },
    {
      "cell_type": "code",
      "source": [
        "def digitos_cero_y_cinco(n):\n",
        "    contador = 0\n",
        "    while n:\n",
        "        \n",
        "        digito = n % 10\n",
        "        print(digito)\n",
        "        if digito == 0 or digito == 5:\n",
        "            contador = contador + 1\n",
        "            \n",
        "        n = n / 10\n",
        "    return contador\n",
        "\n",
        "\n",
        "digitos_cero_y_cinco(1055030250)"
      ],
      "metadata": {
        "id": "jSV0BgvoIviq"
      },
      "id": "jSV0BgvoIviq",
      "execution_count": null,
      "outputs": []
    },
    {
      "cell_type": "code",
      "source": [
        "def muestra_raiz_cuadrada(x):\n",
        "    if x <= 0:\n",
        "        print (\"Por favor, use sólo números positivos.\")\n",
        "        return \n",
        "\n",
        "\n",
        "    resultado = x**0.5\n",
        "    print (\"La raíz cuadrada de x es\", resultado)\n",
        "\n",
        "\n",
        "\n",
        "muestra_raiz_cuadrada(-10)\n",
        "\n"
      ],
      "metadata": {
        "colab": {
          "base_uri": "https://localhost:8080/"
        },
        "id": "9ETADejCoyAi",
        "outputId": "4c99c5b3-c38a-4aa2-ff2f-1d855f1c6e7a"
      },
      "id": "9ETADejCoyAi",
      "execution_count": null,
      "outputs": [
        {
          "output_type": "stream",
          "name": "stdout",
          "text": [
            "Por favor, use sólo números positivos.\n"
          ]
        }
      ]
    },
    {
      "cell_type": "code",
      "source": [
        "fruta = \"banana\"\n",
        "indice = 0\n",
        "while indice < len(fruta):\n",
        "    letra = fruta[indice]\n",
        "    print (letra)\n",
        "    indice += 1\n"
      ],
      "metadata": {
        "colab": {
          "base_uri": "https://localhost:8080/"
        },
        "id": "fwqQdL0dqEdf",
        "outputId": "be4acfd4-a18f-4027-df6c-5e914f67aada"
      },
      "id": "fwqQdL0dqEdf",
      "execution_count": null,
      "outputs": [
        {
          "output_type": "stream",
          "name": "stdout",
          "text": [
            "b\n",
            "a\n",
            "n\n",
            "a\n",
            "n\n",
            "a\n"
          ]
        }
      ]
    },
    {
      "cell_type": "code",
      "source": [
        "i = 1\n",
        "print (\"i\\ti**2\\ti**3\\ti**5\\ti**10\\ti**20\")\n",
        "while i <= 10:\n",
        "    print (i, '\\t', i**2, '\\t', i**3, '\\t', i**5, '\\t', i**10, '\\t', i**20)\n",
        "    i += 1"
      ],
      "metadata": {
        "colab": {
          "base_uri": "https://localhost:8080/"
        },
        "id": "TyjruHJv7EcD",
        "outputId": "80f8fd4c-7c05-4606-c835-da965acf74fd"
      },
      "id": "TyjruHJv7EcD",
      "execution_count": 11,
      "outputs": [
        {
          "output_type": "stream",
          "name": "stdout",
          "text": [
            "i\ti**2\ti**3\ti**5\ti**10\ti**20\n",
            "1 \t 1 \t 1 \t 1 \t 1 \t 1\n",
            "2 \t 4 \t 8 \t 32 \t 1024 \t 1048576\n",
            "3 \t 9 \t 27 \t 243 \t 59049 \t 3486784401\n",
            "4 \t 16 \t 64 \t 1024 \t 1048576 \t 1099511627776\n",
            "5 \t 25 \t 125 \t 3125 \t 9765625 \t 95367431640625\n",
            "6 \t 36 \t 216 \t 7776 \t 60466176 \t 3656158440062976\n",
            "7 \t 49 \t 343 \t 16807 \t 282475249 \t 79792266297612001\n",
            "8 \t 64 \t 512 \t 32768 \t 1073741824 \t 1152921504606846976\n",
            "9 \t 81 \t 729 \t 59049 \t 3486784401 \t 12157665459056928801\n",
            "10 \t 100 \t 1000 \t 100000 \t 10000000000 \t 100000000000000000000\n"
          ]
        }
      ]
    },
    {
      "cell_type": "code",
      "source": [
        "\n",
        "n = 0\n",
        "j=list(j)\n",
        "j=len(j)\n",
        "x=tot_reg + d\n",
        "j = j-d\n",
        "if j%3 != 0 : \n",
        "    print(\"Invalid row_number\") \n",
        "else:\n",
        "  d=j/3\n",
        "  d=int(d)\n",
        "  j=range(d)\n",
        "  for i in j:\n",
        "    n = i+x\n",
        "    worksheet.update_cell(n,1,'=SI(O(E'+str(n)+'=\"DESARROLLO\";E'+str(n)+'=\"Mario Herrera Sanchez\"); SI(AÑO(F'+str(n)+')=2020;ALEATORIO.ENTRE(1;10);SI(AÑO(F'+str(n)+')=2021;ALEATORIO.ENTRE(1;12);SI(AÑO(F'+str(n)+')=2022;ALEATORIO.ENTRE(1;16);\"\")));\"\")')\n",
        "  \n",
        "n = 0\n",
        "j=list(j)\n",
        "j=len(j)\n",
        "x=tot_reg + d\n",
        "j = j-d\n",
        "if j%3 != 0 : \n",
        "    print(\"Invalid row_number\") \n",
        "else:\n",
        "  d=j/3\n",
        "  d=int(d)\n",
        "  j=range(d)\n",
        "  for i in j:\n",
        "    n = i+x\n",
        "    worksheet.update_cell(n,1,'=SI(O(E'+str(n)+'=\"DESARROLLO\";E'+str(n)+'=\"Mario Herrera Sanchez\"); SI(AÑO(F'+str(n)+')=2020;ALEATORIO.ENTRE(1;10);SI(AÑO(F'+str(n)+')=2021;ALEATORIO.ENTRE(1;12);SI(AÑO(F'+str(n)+')=2022;ALEATORIO.ENTRE(1;16);\"\")));\"\")')\n",
        "  \n",
        "  \n",
        "\n"
      ],
      "metadata": {
        "id": "NoGG-a0PNIrp"
      },
      "id": "NoGG-a0PNIrp",
      "execution_count": null,
      "outputs": []
    },
    {
      "cell_type": "code",
      "source": [
        "from collections import defaultdict\n",
        "\n",
        "text = 'Mary had a little lamb'\n",
        "chars = defaultdict(int)\n",
        "\n",
        "for char in text:\n",
        "    chars[char] += 1\n",
        "    \n",
        "print(chars['a'])\n",
        "print(chars['t'])\n",
        "print(chars['l'])"
      ],
      "metadata": {
        "id": "nsBemietmz9w"
      },
      "id": "nsBemietmz9w",
      "execution_count": null,
      "outputs": []
    },
    {
      "cell_type": "code",
      "source": [
        "j = range(len(datos_xls)-tot_reg)\n",
        "\n",
        "x=tot_reg\n",
        "for i in j:\n",
        "  n = i+x\n",
        "  worksheet.update_cell(n,1,'=SI(O(E'+str(n)+'=\"DESARROLLO\";E'+str(n)+'=\"Mario Herrera Sanchez\"); SI(AÑO(F'+str(n)+')=2020;ALEATORIO.ENTRE(1;10);SI(AÑO(F'+str(n)+')=2021;ALEATORIO.ENTRE(1;12);SI(AÑO(F'+str(n)+')=2022;ALEATORIO.ENTRE(1;16);\"\")));\"\")')\n",
        "  \n",
        "   "
      ],
      "metadata": {
        "colab": {
          "base_uri": "https://localhost:8080/"
        },
        "id": "7NomNNN_t8zx",
        "outputId": "4dd87205-c1ee-4411-b699-37742ce2427c"
      },
      "id": "7NomNNN_t8zx",
      "execution_count": null,
      "outputs": [
        {
          "output_type": "execute_result",
          "data": {
            "text/plain": [
              "range(0, 7)"
            ]
          },
          "metadata": {},
          "execution_count": 30
        }
      ]
    },
    {
      "cell_type": "code",
      "source": [
        "#Escriba un programa en Python para encontrar números entre 120 y 200 que sean divisibles por 7 y múltiplos de 5 sin usar un \"bucle for\".\n",
        "valid_nums = filter(lambda x: x % 35 == 0, range(120, 200))\n",
        "list(valid_nums)"
      ],
      "metadata": {
        "id": "3g2Y4ZZ669W4"
      },
      "id": "3g2Y4ZZ669W4",
      "execution_count": null,
      "outputs": []
    },
    {
      "cell_type": "code",
      "source": [
        "list(range(((120//35)+1)*35,200,35))"
      ],
      "metadata": {
        "colab": {
          "base_uri": "https://localhost:8080/"
        },
        "id": "U_NWWUaQ6_-A",
        "outputId": "ea4f1a68-91dd-42e0-8b23-35def7809905"
      },
      "id": "U_NWWUaQ6_-A",
      "execution_count": null,
      "outputs": [
        {
          "output_type": "execute_result",
          "data": {
            "text/plain": [
              "[140, 175]"
            ]
          },
          "metadata": {},
          "execution_count": 75
        }
      ]
    },
    {
      "cell_type": "code",
      "source": [
        "import pandas as pd\n",
        "\n",
        "data = {'set_of_numbers': [1, 2, 3, 4, 5, 6, 7, 8, 9, 10]}\n",
        "df = pd.DataFrame(data)\n",
        "\n",
        "df.loc[df['set_of_numbers'] <= 4, 'equal_or_lower_than_4?'] = 'True' \n",
        "df.loc[df['set_of_numbers'] > 4, 'equal_or_lower_than_4?'] = 'False' \n",
        "\n",
        "print(df)"
      ],
      "metadata": {
        "id": "37n5GrkAxUGb"
      },
      "id": "37n5GrkAxUGb",
      "execution_count": null,
      "outputs": []
    },
    {
      "cell_type": "code",
      "source": [
        "x=tot_reg\n",
        "j =range(len(datos_xls)-x)\n",
        "\n",
        "\n",
        "cell_list = worksheet.range(j)\n",
        "for cell in cell_list:\n",
        "\n",
        "    cell.value ='=SI(O(E'+str(n)+'=\"DESARROLLO\";E'+str(n)+'=\"Mario Herrera Sanchez\"); SI(AÑO(F'+str(n)+')=2020;ALEATORIO.ENTRE(1;10);SI(AÑO(F'+str(n)+')=2021;ALEATORIO.ENTRE(1;12);SI(AÑO(F'+str(n)+')=2022;ALEATORIO.ENTRE(1;16);\"\")));\"\")'\n",
        "\n",
        "worksheet.update_cells(cell_list)"
      ],
      "metadata": {
        "id": "f6J8mJJmKmXO"
      },
      "id": "f6J8mJJmKmXO",
      "execution_count": null,
      "outputs": []
    },
    {
      "cell_type": "code",
      "source": [
        "rows = worksheet.get_all_values()\n",
        "\n",
        "df['new_column'] = np.where(df['col2']<9, \n",
        "                            'value1',np.where(df['col2']<12, \n",
        "                                              'value2',np.where(df['col2']<15, \n",
        "                                                                'value3', 'value4')))"
      ],
      "metadata": {
        "id": "6d44kI7tE794"
      },
      "id": "6d44kI7tE794",
      "execution_count": null,
      "outputs": []
    },
    {
      "cell_type": "code",
      "source": [
        "import numpy as np\n",
        "import pandas as pd\n",
        "\n",
        "marks_array = np.array([['', 'Mathematics', 'Economics'],\n",
        "                        ['Sunny', 25, 23],\n",
        "                        ['Alice', 23, 24]])\n",
        "\n",
        "print(\"NumPy Data Array is:\")\n",
        "print(marks_array)"
      ],
      "metadata": {
        "colab": {
          "base_uri": "https://localhost:8080/"
        },
        "id": "Mfdw-p5XtXWy",
        "outputId": "1aeed237-31b2-49df-f74d-212d6047edae"
      },
      "id": "Mfdw-p5XtXWy",
      "execution_count": null,
      "outputs": [
        {
          "output_type": "stream",
          "name": "stdout",
          "text": [
            "NumPy Data Array is:\n",
            "[['' 'Mathematics' 'Economics']\n",
            " ['Sunny' '25' '23']\n",
            " ['Alice' '23' '24']]\n"
          ]
        }
      ]
    },
    {
      "cell_type": "code",
      "source": [
        "df = pd.DataFrame(columns=rows)"
      ],
      "metadata": {
        "id": "PmxUnm48jCLc"
      },
      "id": "PmxUnm48jCLc",
      "execution_count": null,
      "outputs": []
    },
    {
      "cell_type": "code",
      "source": [
        "worksheet.update('A1:A20', '=ALEATORIO.ENTRE(1;16)')"
      ],
      "metadata": {
        "id": "TucMLVRLAi7A"
      },
      "id": "TucMLVRLAi7A",
      "execution_count": null,
      "outputs": []
    },
    {
      "cell_type": "code",
      "source": [
        "worksheet.update_acell('R20C1:R25C1', '=ALEATORIO.ENTRE(1;16)')"
      ],
      "metadata": {
        "id": "ozgKPjynyrSD"
      },
      "id": "ozgKPjynyrSD",
      "execution_count": null,
      "outputs": []
    },
    {
      "cell_type": "code",
      "source": [
        "worksheet.update_acell('A23289','=ALEATORIO.ENTRE(1;16)')"
      ],
      "metadata": {
        "id": "pByXlixsF29Z"
      },
      "id": "pByXlixsF29Z",
      "execution_count": null,
      "outputs": []
    },
    {
      "cell_type": "code",
      "source": [
        "worksheet.update_cell(23287, 1, '=SI(O(E23285=\"DESARROLLO\";E23285=\"Mario Herrera Sanchez\"); SI(R23285=2020;ALEATORIO.ENTRE(1;10);SI(R23285=2021;ALEATORIO.ENTRE(1;12);SI(R23285=2022;ALEATORIO.ENTRE(1;16);\"\")));\"\")')"
      ],
      "metadata": {
        "colab": {
          "base_uri": "https://localhost:8080/"
        },
        "id": "MRURGYuUJVPp",
        "outputId": "967ad442-f501-46ad-e7c2-2787cb6fc988"
      },
      "id": "MRURGYuUJVPp",
      "execution_count": null,
      "outputs": [
        {
          "output_type": "execute_result",
          "data": {
            "text/plain": [
              "{'spreadsheetId': '1hqni7LhsunObatvZK_uD7S67EXazRasctD-AblEfOkE',\n",
              " 'updatedRange': \"'ManageEngine Report Framework'!A23287\",\n",
              " 'updatedRows': 1,\n",
              " 'updatedColumns': 1,\n",
              " 'updatedCells': 1}"
            ]
          },
          "metadata": {},
          "execution_count": 61
        }
      ]
    },
    {
      "cell_type": "code",
      "source": [
        "cell_list = worksheet.range('A23060:A23285')\n",
        "for cell in cell_list:\n",
        "  cell.value = '=SI(O(E23285=\"DESARROLLO\";E23285=\"Mario Herrera Sanchez\"); SI(R23285=2020;ALEATORIO.ENTRE(1;10);SI(R23285=2021;ALEATORIO.ENTRE(1;12);SI(R23285=2022;ALEATORIO.ENTRE(1;16);\"\")));\"\")'\n",
        "  #worksheet.update_cell(cell, 1, '=SI(O(E23285=\"DESARROLLO\";E23285=\"Mario Herrera Sanchez\"); SI(R23285=2020;ALEATORIO.ENTRE(1;10);SI(R23285=2021;ALEATORIO.ENTRE(1;12);SI(R23285=2022;ALEATORIO.ENTRE(1;16);\"\")));\"\")')\n",
        "\n",
        "\n",
        "worksheet.update_cells(cell_list)"
      ],
      "metadata": {
        "colab": {
          "base_uri": "https://localhost:8080/"
        },
        "id": "i2mO5vTBNiDN",
        "outputId": "9507d008-9acb-4ac6-f450-6f3c59933f41"
      },
      "id": "i2mO5vTBNiDN",
      "execution_count": null,
      "outputs": [
        {
          "output_type": "execute_result",
          "data": {
            "text/plain": [
              "{'spreadsheetId': '1hqni7LhsunObatvZK_uD7S67EXazRasctD-AblEfOkE',\n",
              " 'updatedRange': \"'ManageEngine Report Framework'!A23060:A23285\",\n",
              " 'updatedRows': 226,\n",
              " 'updatedColumns': 1,\n",
              " 'updatedCells': 226}"
            ]
          },
          "metadata": {},
          "execution_count": 62
        }
      ]
    },
    {
      "cell_type": "code",
      "source": [
        "worksheet.row_count"
      ],
      "metadata": {
        "colab": {
          "base_uri": "https://localhost:8080/"
        },
        "id": "CSa1kZfBRL17",
        "outputId": "123cb529-fbdf-4f08-9606-599a460c1bfc"
      },
      "id": "CSa1kZfBRL17",
      "execution_count": null,
      "outputs": [
        {
          "output_type": "execute_result",
          "data": {
            "text/plain": [
              "23320"
            ]
          },
          "metadata": {},
          "execution_count": 40
        }
      ]
    },
    {
      "cell_type": "code",
      "source": [
        "j=23285-23060\n",
        "for i in range(len(datos_xls)-23060):\n",
        "  worksheet.update_cell(i+23060,j, '=SI(O(E23285=\"DESARROLLO\";E23285=\"Mario Herrera Sanchez\"); SI(R23285=2020;ALEATORIO.ENTRE(1;10);SI(R23285=2021;ALEATORIO.ENTRE(1;12);SI(R23285=2022;ALEATORIO.ENTRE(1;16);\"\")));\"\")')"
      ],
      "metadata": {
        "id": "M_E0YvHN7Ow2"
      },
      "id": "M_E0YvHN7Ow2",
      "execution_count": null,
      "outputs": []
    },
    {
      "cell_type": "code",
      "source": [
        "#inserta un file en el 9 renglon\n",
        "row = [\"I'm\",\"inserting\",\"a\",\"row\",\"into\",\"a,\",\"Spreadsheet\",\"with\",\"Python\"]\n",
        "index = 9\n",
        "worksheet.insert_row(row, index)"
      ],
      "metadata": {
        "id": "CoXvLLD9BG7U"
      },
      "id": "CoXvLLD9BG7U",
      "execution_count": null,
      "outputs": []
    },
    {
      "cell_type": "code",
      "execution_count": null,
      "id": "2bb84f29",
      "metadata": {
        "scrolled": true,
        "id": "2bb84f29"
      },
      "outputs": [],
      "source": [
        "#df = datos_xls\n",
        "#def Insert_row_(row_number, df, row_value): \n",
        "    \n",
        "#    df1 = df[0:row_number] \n",
        "   \n",
        "    \n",
        "#    df2 = df[row_number:] \n",
        "   \n",
        "    \n",
        "#    df1.loc[row_number]=row_value \n",
        "   \n",
        "    \n",
        "#    df_result = pd.concat([df1, df2]) \n",
        "   \n",
        "    \n",
        "#    df_result.index = [*range(df_result.shape[0])] \n",
        "   \n",
        "    \n",
        "#    return df_result \n",
        "   \n",
        "#row_number = 0\n",
        "#row_value = ['','','','','','','','','','','','','','','','','' ] \n",
        "#x = range(6)\n",
        "\n",
        "#if row_number > df.index.max()+1: \n",
        "#    print(\"Invalid row_number\") \n",
        "#else:\n",
        "    #inserta 6 renglones vacios al primcipio \n",
        "#        for n in x:\n",
        "#              df = Insert_row_(0, df, row_value) \n",
        "  \n",
        "    "
      ]
    },
    {
      "cell_type": "code",
      "execution_count": null,
      "id": "f499bfa8",
      "metadata": {
        "id": "f499bfa8"
      },
      "outputs": [],
      "source": [
        "#def Insert_row_(row_number, df, row_value): \n",
        "    \n",
        "#    df1 = df[0:row_number] \n",
        "   \n",
        "    \n",
        "#    df2 = df[row_number:] \n",
        "   \n",
        "    \n",
        "#    df1.loc[row_number]=row_value \n",
        "   \n",
        "    \n",
        "#    df_result = pd.concat([df1, df2]) \n",
        "   \n",
        "    \n",
        "#    df_result.index = [*range(df_result.shape[0])] \n",
        "   \n",
        "    \n",
        "#    return df_result \n",
        "   \n",
        "#row_number = 6\n",
        "#row_value = ['Num', 'ID', 'Asunto', 'Nombre del solicitante', 'Asignado a',\n",
        "#       'Fecha de creación', 'Estado', 'Sitio', 'Grupo',\n",
        "#       'Creado por', 'Hora de resolución', 'Hora de finalización',\n",
        "#       'Tiempo transcurrido', 'Tiempo en espera', 'Fecha de respuesta',\n",
        "#       'Tiempo de respuesta de SLA', 'Departamento'] \n",
        "  \n",
        "#if row_number > df.index.max()+1: \n",
        "#    print(\"Invalid row_number\") \n",
        "#else: \n",
        "  \n",
        "    #inserta un renglon con los valores de los nombres del titulo de columnas en la fila 6\n",
        "    \n",
        " #   df = Insert_row_(6, df, row_value) "
      ]
    },
    {
      "cell_type": "code",
      "execution_count": null,
      "id": "83cb8b4b",
      "metadata": {
        "id": "83cb8b4b"
      },
      "outputs": [],
      "source": [
        "#renombra los titulos de las columnas y las deja en blanco\n",
        "#df.columns =['','','','','','','','','','','','','','','','','' ]  "
      ]
    },
    {
      "cell_type": "code",
      "source": [
        "#df=datos_xls.values.tolist()\n",
        "#df_renglones = range(len(datos_xls))\n",
        "#df_colum =range(len(datos_xls.columns.tolist()))\n",
        "#df_colum ,df_renglones"
      ],
      "metadata": {
        "id": "vcuGQku6Fen2"
      },
      "id": "vcuGQku6Fen2",
      "execution_count": null,
      "outputs": []
    },
    {
      "cell_type": "code",
      "source": [
        "\n",
        "#cell_list = range(len(df))\n",
        "#df=datos_xls\n",
        "#for i in range(len(datos_xls)):\n",
        " # for j in range(len(datos_xls.columns.tolist())):\n",
        "       #worksheet.update_cell(i+1, j+1, df.iat[i,j])\n",
        "   #worksheet.update_cell(i+1, j+1, 'O_0')\n",
        "   #print(f'{df.iat[i,j]} : {i} : {j}')\n",
        "\n",
        "    #worksheet.update_cells(datos_xls.columns.tolist())"
      ],
      "metadata": {
        "id": "nuEgFwm18cd4"
      },
      "id": "nuEgFwm18cd4",
      "execution_count": null,
      "outputs": []
    },
    {
      "cell_type": "code",
      "source": [
        " #worksheet.range('B8:Q8')"
      ],
      "metadata": {
        "id": "qF7s4aP6QStu"
      },
      "id": "qF7s4aP6QStu",
      "execution_count": null,
      "outputs": []
    },
    {
      "cell_type": "code",
      "source": [
        "#cell_list = worksheet.range('B8:Q8')\n",
        "#for cell in cell_list:\n",
        "#    cell.value = 'O_1'\n",
        "#    print(f'{cell_list}')\n",
        "\n",
        "#worksheet.update_cells(cell_list)"
      ],
      "metadata": {
        "id": "ZTS7XEhfPWb1"
      },
      "id": "ZTS7XEhfPWb1",
      "execution_count": null,
      "outputs": []
    },
    {
      "cell_type": "code",
      "source": [
        "#print(df.iat[df.index[-1],16])"
      ],
      "metadata": {
        "id": "HuP6I8aFjCZz"
      },
      "id": "HuP6I8aFjCZz",
      "execution_count": null,
      "outputs": []
    },
    {
      "cell_type": "code",
      "source": [
        "#print(df.iat[6,0])"
      ],
      "metadata": {
        "id": "WYwK3W5NkR9H"
      },
      "id": "WYwK3W5NkR9H",
      "execution_count": null,
      "outputs": []
    },
    {
      "cell_type": "code",
      "execution_count": null,
      "id": "d0f3b781",
      "metadata": {
        "id": "d0f3b781"
      },
      "outputs": [],
      "source": [
        "#worksheet.update([datos_xls.columns.values.tolist()] + datos_xls.values.tolist())"
      ]
    }
  ],
  "metadata": {
    "kernelspec": {
      "display_name": "Python 3 (ipykernel)",
      "language": "python",
      "name": "python3"
    },
    "language_info": {
      "codemirror_mode": {
        "name": "ipython",
        "version": 3
      },
      "file_extension": ".py",
      "mimetype": "text/x-python",
      "name": "python",
      "nbconvert_exporter": "python",
      "pygments_lexer": "ipython3",
      "version": "3.10.2"
    },
    "colab": {
      "provenance": [],
      "collapsed_sections": [],
      "include_colab_link": true
    }
  },
  "nbformat": 4,
  "nbformat_minor": 5
}